{
 "cells": [
  {
   "cell_type": "markdown",
   "id": "celtic-breeding",
   "metadata": {},
   "source": [
    "# The goal of this activity is to write and import a series of functions that when combined will decode a secret message. "
   ]
  },
  {
   "cell_type": "markdown",
   "id": "posted-density",
   "metadata": {},
   "source": [
    "## Prompts:\n",
    "\n",
    "1) Write a function named special_characters_decryption that takes in a string and returns a string with the following special characters removed ‘!@#$%^&*’. Each '@' should also be replaced by a space.\n",
    "\n",
    "2) Write a function named multiply_letters_decryption that takes in a string with repeating letters, and returns a string containing on one letter for each set of repeating letters. repeating letters each repeat 5 times.\n",
    "\n",
    "3) Write a function named reverse_letters_decryption that takes in a string and returns a string with the characters in the string in reverse order.\n",
    "\n",
    "4) Write a function named alpha_shift_decryption that takes in a string and returns a string with each letter in the string changed into the letter 3 letters to the left if it in the alphabet. For example ‘a’ is one letter to the left of ‘b’ and three letters to the left of ‘d.’\n",
    "\n",
    "5) Write a function named swap_first_and_last_words_decryption that takes in a string and returns a string with the first and last words of the string transposed.\n",
    "\n",
    "6) Write a function named swap_every_two_words_decryption the takes in a string and returns a string with each pair of words transposed. if the string has an odd number of words the last word in the string should remain the last word in the string.\n",
    "\n",
    "7) Write a function named swap_first_and_last_letter_decryption that takes in a string and returns a string with the first and last letters of each word transposed. One letter words should remain unchanged."
   ]
  },
  {
   "cell_type": "code",
   "execution_count": 1,
   "id": "patient-principle",
   "metadata": {},
   "outputs": [
    {
     "data": {
      "text/plain": [
       "'o^o&o&o^o%k&k^k^k$k^p%p^p#p#p$t^t*t$t#t$b$b#b$b%b&x^x&x%x$x!@p&p#p%p^p%f!f!f*f#f&@v#v$v$v&v#l#l&l$l#l*o^o*o*o$o%q*q$q#q%q^c#c%c!c^c^@a#a%a#a*a%k$k#k^k&k$x#x*x&x%x#@d*d$d%d^d%s&s!s&s&s$b$b^b^b!b%o%o$o$o#o&v^v#v$v#v#q$q^q^q#q#e^e!e!e$e#f!f%f^f%f#k^k^k!k#k!b$b%b&b$b!@b!b#b&b$b!e$e$e*e!e^q!q!q^q$q!@b*b!b%b$b!k^k$k!k*k$f$f^f#f#f#s!s*s&s&s%b^b%b#b&b#o$o!o$o*o%p%p^p%p^p!r&r$r^r^r!@l%l$l^l^l^q%q%q!q%q%@b&b#b^b*b^f$f#f*f!f!c$c*c&c^c!i!i*i!i%i^@b*b^b$b#b!e!e%e*e^e#q*q&q&q^q&@l#l*l^l#l#t!t#t*t&t$q#q^q!q*q#'"
      ]
     },
     "execution_count": 1,
     "metadata": {},
     "output_type": "execute_result"
    }
   ],
   "source": [
    "import encryption as e\n",
    "\n",
    "# add message after encryption\n",
    "message = e.encrypt_message()\n",
    "message"
   ]
  },
  {
   "cell_type": "code",
   "execution_count": 2,
   "id": "distinct-hayes",
   "metadata": {},
   "outputs": [],
   "source": [
    "import group1 as g1\n",
    "import group2 as g2\n",
    "import group3 as g3\n",
    "import group4 as g4\n",
    "import group5 as g5\n",
    "import group6 as g6\n",
    "import group7 as g7"
   ]
  },
  {
   "cell_type": "code",
   "execution_count": 3,
   "id": "scientific-shame",
   "metadata": {},
   "outputs": [
    {
     "ename": "AttributeError",
     "evalue": "module 'group1' has no attribute 'special_characters_decryption'",
     "output_type": "error",
     "traceback": [
      "\u001b[0;31m---------------------------------------------------------------------------\u001b[0m",
      "\u001b[0;31mAttributeError\u001b[0m                            Traceback (most recent call last)",
      "\u001b[0;32m<ipython-input-3-e32bd05518dd>\u001b[0m in \u001b[0;36m<module>\u001b[0;34m\u001b[0m\n\u001b[0;32m----> 1\u001b[0;31m \u001b[0mmessage\u001b[0m \u001b[0;34m=\u001b[0m \u001b[0mg1\u001b[0m\u001b[0;34m.\u001b[0m\u001b[0mspecial_characters_decryption\u001b[0m\u001b[0;34m(\u001b[0m\u001b[0mmessage\u001b[0m\u001b[0;34m)\u001b[0m\u001b[0;34m\u001b[0m\u001b[0;34m\u001b[0m\u001b[0m\n\u001b[0m\u001b[1;32m      2\u001b[0m \u001b[0mprint\u001b[0m\u001b[0;34m(\u001b[0m\u001b[0mmessage\u001b[0m\u001b[0;34m)\u001b[0m\u001b[0;34m\u001b[0m\u001b[0;34m\u001b[0m\u001b[0m\n\u001b[1;32m      3\u001b[0m \u001b[0;34m\u001b[0m\u001b[0m\n\u001b[1;32m      4\u001b[0m \u001b[0mmessage\u001b[0m \u001b[0;34m=\u001b[0m \u001b[0mg2\u001b[0m\u001b[0;34m.\u001b[0m\u001b[0mmultiply_letters_decryption\u001b[0m\u001b[0;34m(\u001b[0m\u001b[0mmessage\u001b[0m\u001b[0;34m)\u001b[0m\u001b[0;34m\u001b[0m\u001b[0;34m\u001b[0m\u001b[0m\n\u001b[1;32m      5\u001b[0m \u001b[0mprint\u001b[0m\u001b[0;34m(\u001b[0m\u001b[0mmessage\u001b[0m\u001b[0;34m)\u001b[0m\u001b[0;34m\u001b[0m\u001b[0;34m\u001b[0m\u001b[0m\n",
      "\u001b[0;31mAttributeError\u001b[0m: module 'group1' has no attribute 'special_characters_decryption'"
     ]
    }
   ],
   "source": [
    "message = g1.special_characters_decryption(message)\n",
    "print(message)\n",
    "\n",
    "message = g2.multiply_letters_decryption(message)\n",
    "print(message)\n",
    "\n",
    "message = g3.reverse_letters_decryption(message)\n",
    "print(message)\n",
    "\n",
    "message = g4.alpha_shift_decryption(message)\n",
    "print(message)\n",
    "\n",
    "message = g5.swap_first_and_last_words_decryption(message)\n",
    "print(message)\n",
    "\n",
    "message = g6.swap_every_two_words_decryption(message)\n",
    "print(message)\n",
    "\n",
    "message = g7.swap_first_and_last_letter_decryption(message)\n",
    "print(message)"
   ]
  }
 ],
 "metadata": {
  "kernelspec": {
   "display_name": "Python 3",
   "language": "python",
   "name": "python3"
  },
  "language_info": {
   "codemirror_mode": {
    "name": "ipython",
    "version": 3
   },
   "file_extension": ".py",
   "mimetype": "text/x-python",
   "name": "python",
   "nbconvert_exporter": "python",
   "pygments_lexer": "ipython3",
   "version": "3.7.4"
  }
 },
 "nbformat": 4,
 "nbformat_minor": 5
}
