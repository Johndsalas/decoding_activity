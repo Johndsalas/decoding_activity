{
 "cells": [
  {
   "cell_type": "code",
   "execution_count": 1,
   "metadata": {},
   "outputs": [],
   "source": [
    "import string\n",
    "import random"
   ]
  },
  {
   "cell_type": "markdown",
   "metadata": {},
   "source": [
    "## Message should consist on only lowercase letters"
   ]
  },
  {
   "cell_type": "code",
   "execution_count": 2,
   "metadata": {},
   "outputs": [],
   "source": [
    "message = \"the answer to life the universe and everything\" # should contain only lowercase letters"
   ]
  },
  {
   "cell_type": "markdown",
   "metadata": {},
   "source": [
    "## Encryption 1: Swap the first and last letter in each word"
   ]
  },
  {
   "cell_type": "code",
   "execution_count": 3,
   "metadata": {},
   "outputs": [],
   "source": [
    "def swap_first_and_last_letter(message):  \n",
    "    \n",
    "    # create empty string\n",
    "    encrypted_message = ''  \n",
    "    \n",
    "    # convert message string to list of words in string \n",
    "    message_list = message.split(' ')\n",
    "    \n",
    "    # for each word in the list get the start and end letter\n",
    "    for word in message_list:\n",
    "    \n",
    "        start_letter = word[0]\n",
    "        \n",
    "        end_letter = word[-1]\n",
    "        \n",
    "        # if the word is grater than 2 letters capture other letters in the string \n",
    "        # then assign last_letter plus other_letters plus start_letter plus 'space' to new_word\n",
    "        if len(word) > 2:\n",
    "        \n",
    "            other_letters = word[1:-1]\n",
    "            \n",
    "            new_word = end_letter + other_letters + start_letter + ' '\n",
    "            \n",
    "        # if the word is two letters long add end_letter plus start_letter plus 'space' to new_word\n",
    "        elif len(word) == 2:\n",
    "            \n",
    "            new_word = end_letter + start_letter + ' '\n",
    "            \n",
    "        # if word is one letter add word plus space to new_word\n",
    "        else:\n",
    "            \n",
    "            new_word = word + ' '\n",
    "        \n",
    "        # add new_word to encrypted_message\n",
    "        encrypted_message += new_word\n",
    "\n",
    "    return encrypted_message.strip() # remove ' ' at end of message"
   ]
  },
  {
   "cell_type": "markdown",
   "metadata": {},
   "source": [
    "## Decryption 1: Swap the first and last letter in each word"
   ]
  },
  {
   "cell_type": "code",
   "execution_count": 4,
   "metadata": {},
   "outputs": [],
   "source": [
    "def swap_first_and_last_letter_decryption(message):  \n",
    "    \n",
    "    # create empty string\n",
    "    encrypted_message = ''  \n",
    "    \n",
    "    # convert message string to list of words in string \n",
    "    message_list = message.split(' ')\n",
    "    \n",
    "    # for each word in the list get the start and end letter\n",
    "    for word in message_list:\n",
    "    \n",
    "        start_letter = word[0]\n",
    "        \n",
    "        end_letter = word[-1]\n",
    "        \n",
    "        # if the word is grater than 2 letters capture other letters in the string \n",
    "        # then assign last_letter plus other_letters plus start_letter plus 'space' to new_word\n",
    "        if len(word) > 2:\n",
    "        \n",
    "            other_letters = word[1:-1]\n",
    "            \n",
    "            new_word = end_letter + other_letters + start_letter + ' '\n",
    "            \n",
    "        # if the word is two letters long add end_letter plus start_letter plus 'space' to new_word\n",
    "        elif len(word) == 2:\n",
    "            \n",
    "            new_word = end_letter + start_letter + ' '\n",
    "            \n",
    "        # if word is one letter add word plus space to new_word\n",
    "        else:\n",
    "            \n",
    "            new_word = word + ' '\n",
    "        \n",
    "        # add new_word to encrypted_message\n",
    "        encrypted_message += new_word\n",
    "\n",
    "    return encrypted_message.strip() # remove ' ' at end of message"
   ]
  },
  {
   "cell_type": "markdown",
   "metadata": {},
   "source": [
    "## Encryption 2: Swap every two words"
   ]
  },
  {
   "cell_type": "code",
   "execution_count": 5,
   "metadata": {},
   "outputs": [],
   "source": [
    "def swap_every_two_words(message):\n",
    "\n",
    "    # define empty string and empty list\n",
    "    encrypted_message =''\n",
    "\n",
    "    duo = []\n",
    "    \n",
    "    # change message to list of words\n",
    "    message_list = message.split(' ')\n",
    "\n",
    "    \n",
    "    # add each word in the list to duo\n",
    "    for word in message_list:\n",
    "\n",
    "        duo.append(word)   \n",
    "\n",
    "        # if there are two words in duo \n",
    "        # reverse the list \n",
    "        # add each word plus a space to encrypted_message \n",
    "        # and remove the words from duo\n",
    "        \n",
    "        if len(duo) == 2:\n",
    "\n",
    "            duo.reverse()\n",
    "\n",
    "            for word in duo:\n",
    "\n",
    "                encrypted_message += word + ' '\n",
    "\n",
    "            duo = []\n",
    "\n",
    "    # if the mwssage has an odd number of words add the last word added to duo to encrypted_message\n",
    "    if len(message_list) % 2 != 0:\n",
    "\n",
    "        encrypted_message += duo[0]\n",
    "\n",
    "    return encrypted_message.strip()"
   ]
  },
  {
   "cell_type": "markdown",
   "metadata": {},
   "source": [
    "## Decryption 2: Swap every two words"
   ]
  },
  {
   "cell_type": "code",
   "execution_count": 6,
   "metadata": {},
   "outputs": [],
   "source": [
    "def swap_every_two_words_decryption(message):\n",
    "\n",
    "    # define empty string and empty list\n",
    "    encrypted_message =''\n",
    "\n",
    "    duo = []\n",
    "    \n",
    "    # change message to list of words\n",
    "    message_list = message.split(' ')\n",
    "\n",
    "    \n",
    "    # add each word in the list to duo\n",
    "    for word in message_list:\n",
    "\n",
    "        duo.append(word)   \n",
    "\n",
    "        # if there are two words in duo \n",
    "        # reverse the list \n",
    "        # add each word plus a space to encrypted_message \n",
    "        # and remove the words from duo\n",
    "        \n",
    "        if len(duo) == 2:\n",
    "\n",
    "            duo.reverse()\n",
    "\n",
    "            for word in duo:\n",
    "\n",
    "                encrypted_message += word + ' '\n",
    "\n",
    "            duo = []\n",
    "\n",
    "    # if the mwssage has an odd number of words add the last word added to duo to encrypted_message\n",
    "    if len(message_list) % 2 != 0:\n",
    "\n",
    "        encrypted_message += duo[0]\n",
    "\n",
    "    return encrypted_message.strip()"
   ]
  },
  {
   "cell_type": "markdown",
   "metadata": {},
   "source": [
    "## Encryption 3: Swap the first and last words"
   ]
  },
  {
   "cell_type": "code",
   "execution_count": 7,
   "metadata": {},
   "outputs": [],
   "source": [
    "def swap_first_and_last_words(message):\n",
    "\n",
    "    # split message into list of words\n",
    "    li = message.split(' ')\n",
    "\n",
    "    # get length of first and last word\n",
    "    first_word_index = len(li[0])\n",
    "\n",
    "    last_word_index = len(li[-1])\n",
    "\n",
    "    # use length and index to get first word, last word, and other words \n",
    "    first_word = message[:first_word_index]\n",
    "\n",
    "    last_word = message[(last_word_index*-1):]\n",
    "\n",
    "    other_words = message[(first_word_index):(last_word_index*-1)]\n",
    "\n",
    "    # return first word plus other words plus last word\n",
    "    return last_word + other_words + first_word"
   ]
  },
  {
   "cell_type": "markdown",
   "metadata": {},
   "source": [
    "## Decryption 3: Swap the first and last words"
   ]
  },
  {
   "cell_type": "code",
   "execution_count": 8,
   "metadata": {},
   "outputs": [],
   "source": [
    "def swap_first_and_last_words_decryption(message):\n",
    "\n",
    "    # split message into list of words\n",
    "    li = message.split(' ')\n",
    "\n",
    "    # get length of first and last word\n",
    "    first_word_index = len(li[0])\n",
    "\n",
    "    last_word_index = len(li[-1])\n",
    "\n",
    "    # use length and index to get first word, last word, and other words \n",
    "    first_word = message[:first_word_index]\n",
    "\n",
    "    last_word = message[(last_word_index*-1):]\n",
    "\n",
    "    other_words = message[(first_word_index):(last_word_index*-1)]\n",
    "\n",
    "    # return first word plus other words plus last word\n",
    "    return last_word + other_words + first_word"
   ]
  },
  {
   "cell_type": "markdown",
   "metadata": {},
   "source": [
    "## Encryption 4: shift alphabet 3 letters "
   ]
  },
  {
   "cell_type": "code",
   "execution_count": 9,
   "metadata": {},
   "outputs": [],
   "source": [
    "def alpha_shift(message,shift=3):    \n",
    "\n",
    "    # get string with alphabet repeated twice and empty string\n",
    "    alpha = string.ascii_lowercase\n",
    "    alpha = alpha * 2\n",
    "\n",
    "    new_message = ''\n",
    "\n",
    "    #For each character in message if that character is in alph\n",
    "    for char in message:\n",
    "\n",
    "        # if that character is in alpha\n",
    "        if char in alpha:\n",
    "\n",
    "            # get that characer's first index in alpha\n",
    "            char_index = alpha.index(char)\n",
    "\n",
    "            # get the index number that is 'shift' lower than the index number\n",
    "            shift_num = char_index + (shift * -1)\n",
    "\n",
    "            # add the letter found at the index of shift_num to new message\n",
    "            new_message += alpha[shift_num]\n",
    "\n",
    "        # if character is not in alpha (is a space)\n",
    "        else:\n",
    "\n",
    "            # add space to new message\n",
    "            new_message += ' '\n",
    "\n",
    "    return new_message"
   ]
  },
  {
   "cell_type": "markdown",
   "metadata": {},
   "source": [
    "## Decryption 4: shift alphabet 3 letters"
   ]
  },
  {
   "cell_type": "code",
   "execution_count": 10,
   "metadata": {},
   "outputs": [],
   "source": [
    "def alpha_shift_decryption(message,shift=3):    \n",
    "\n",
    "    # get string with alphabet repeated twice and empty string\n",
    "    alpha = string.ascii_lowercase\n",
    "    alpha = alpha * 2\n",
    "\n",
    "    new_message = ''\n",
    "\n",
    "    #For each character in message if that character is in alph\n",
    "    for char in message:\n",
    "\n",
    "        # if that character is in alpha\n",
    "        if char in alpha:\n",
    "\n",
    "            # get that characer's first index in alpha\n",
    "            char_index = alpha.index(char)\n",
    "\n",
    "            # get the index number that is 'shift' higher than the index number\n",
    "            shift_num = char_index + (shift)\n",
    "\n",
    "            # add the letter found at the index of shift_num to new message\n",
    "            new_message += alpha[shift_num]\n",
    "\n",
    "        # if character is not in alpha (is a space)\n",
    "        else:\n",
    "\n",
    "            # add space to new message\n",
    "            new_message += ' '\n",
    "\n",
    "    return new_message"
   ]
  },
  {
   "cell_type": "markdown",
   "metadata": {},
   "source": [
    "## Encryption 5: reverse letters in message"
   ]
  },
  {
   "cell_type": "code",
   "execution_count": 11,
   "metadata": {},
   "outputs": [],
   "source": [
    "def reverse_letters(message):\n",
    "\n",
    "    # get list of words\n",
    "    message = message.split(' ')\n",
    "\n",
    "    # reverse order of list\n",
    "    message.reverse()\n",
    "\n",
    "    # return joined list of reversed words \n",
    "    return ' '.join(message)"
   ]
  },
  {
   "cell_type": "markdown",
   "metadata": {},
   "source": [
    "## Decryption 5: reverse letters in message"
   ]
  },
  {
   "cell_type": "code",
   "execution_count": 12,
   "metadata": {},
   "outputs": [],
   "source": [
    "def reverse_letters_decryption(message):\n",
    "\n",
    "    # get list of words\n",
    "    message = message.split(' ')\n",
    "\n",
    "    # reverse order of list\n",
    "    message.reverse()\n",
    "\n",
    "    # return joined list of reversed words \n",
    "    return ' '.join(message)"
   ]
  },
  {
   "cell_type": "markdown",
   "metadata": {},
   "source": [
    "## Encryption 6: Multiply letters"
   ]
  },
  {
   "cell_type": "code",
   "execution_count": 13,
   "metadata": {},
   "outputs": [],
   "source": [
    "def multiply_letters(message, multiplier = 5):\n",
    "\n",
    "    new_message =''\n",
    "    \n",
    "    # for each letter in the message\n",
    "    for letter in message:\n",
    "    \n",
    "        # if the letter is an alphabet character\n",
    "        if letter.isalpha():\n",
    "        \n",
    "            # multiply the character and add it to new message\n",
    "            new_message += (letter * multiplier)\n",
    "        \n",
    "        # if it is not \n",
    "        else:\n",
    "            \n",
    "            # add a ' ' to new message\n",
    "            new_message += ' '\n",
    "\n",
    "    return new_message"
   ]
  },
  {
   "cell_type": "markdown",
   "metadata": {},
   "source": [
    "## Decryption 6: Multiply letters"
   ]
  },
  {
   "cell_type": "code",
   "execution_count": 14,
   "metadata": {},
   "outputs": [],
   "source": [
    "def multiply_letters_decryption(message, multiplier = 5):\n",
    "\n",
    "    # set count to zero\n",
    "    count = 0\n",
    "\n",
    "    # get empty string\n",
    "    new_message =''\n",
    "    \n",
    "    # for each letter in message \n",
    "    for letter in message:\n",
    "\n",
    "        # if the letter is a character\n",
    "        if letter.isalpha():\n",
    "\n",
    "            # add one to the count\n",
    "            count += 1\n",
    "\n",
    "            # if count devided by multiplyer has no remainder\n",
    "            if count % multiplier == 0:\n",
    "\n",
    "                # add letter to new message\n",
    "                new_message += letter\n",
    "\n",
    "        # if the letter is not a character \n",
    "        else:\n",
    "            \n",
    "            # add a space to new message\n",
    "            new_message += ' '\n",
    "\n",
    "    return new_message"
   ]
  },
  {
   "cell_type": "markdown",
   "metadata": {},
   "source": [
    "## Encryption 7: Sew in special characters"
   ]
  },
  {
   "cell_type": "code",
   "execution_count": 15,
   "metadata": {},
   "outputs": [],
   "source": [
    "def add_special_characters(message):\n",
    "\n",
    "    # get empty list\n",
    "    new_message =''\n",
    "\n",
    "    # for each character in the message\n",
    "    for character in message:\n",
    "\n",
    "        # if the character is an alpha character\n",
    "        if character.isalpha():\n",
    "\n",
    "            # add a random symble after that character in new_character\n",
    "            new_character = character + random.choice(['!','#','$','%','^','&','*'])\n",
    "\n",
    "        # if it is not an alpha character    \n",
    "        else:\n",
    "\n",
    "            # set new_character to '@' \n",
    "            new_character = '@'\n",
    "\n",
    "         # add new character to new message   \n",
    "        new_message += new_character\n",
    "\n",
    "    return new_message"
   ]
  },
  {
   "cell_type": "markdown",
   "metadata": {},
   "source": [
    "## Decryption 7: Sew in special characters"
   ]
  },
  {
   "cell_type": "code",
   "execution_count": 16,
   "metadata": {},
   "outputs": [],
   "source": [
    "def add_special_characters_decryption(message):\n",
    "\n",
    "    # get empty string\n",
    "    new_message =''\n",
    "\n",
    "    # for each character in the message\n",
    "    for character in message:\n",
    "        \n",
    "        # if the character is an alpha character\n",
    "        if character.isalpha():\n",
    "            \n",
    "            # set new character to equal that haracter\n",
    "            new_character = character\n",
    "        \n",
    "        # if the character is one of \"!#$%^&*\" new character equals empty string\n",
    "        elif character in '!#$%^&*':\n",
    "\n",
    "            new_character = ''\n",
    "\n",
    "        # if character equals '@' \n",
    "        elif character == '@':\n",
    "\n",
    "            # new character equals 'space'\n",
    "            new_character = ' '\n",
    "\n",
    "        # add new character to new message\n",
    "        new_message += new_character\n",
    "\n",
    "    return new_message"
   ]
  },
  {
   "cell_type": "markdown",
   "metadata": {},
   "source": [
    "## Example Encryption:"
   ]
  },
  {
   "cell_type": "code",
   "execution_count": 17,
   "metadata": {},
   "outputs": [
    {
     "name": "stdout",
     "output_type": "stream",
     "text": [
      "the answer to life the universe and everything\n",
      "eht rnswea ot eifl eht eniversu dna gverythine\n",
      "rnswea eht eifl ot eniversu eht gverythine dna\n",
      "dna eht eifl ot eniversu eht gverythine rnswea\n",
      "akx beq bfci lq bkfsbopr beq dsbovqefkb okptbx\n",
      "okptbx dsbovqefkb beq bkfsbopr lq bfci beq akx\n",
      "oooookkkkkppppptttttbbbbbxxxxx dddddsssssbbbbbooooovvvvvqqqqqeeeeefffffkkkkkbbbbb bbbbbeeeeeqqqqq bbbbbkkkkkfffffsssssbbbbboooooppppprrrrr lllllqqqqq bbbbbfffffccccciiiii bbbbbeeeeeqqqqq aaaaakkkkkxxxxx\n",
      "o*o^o!o*o*k%k&k$k%k%p$p!p*p!p$t!t%t!t#t#b#b#b&b^b#x$x!x%x*x&@d#d*d$d#d$s$s^s#s$s%b#b*b$b*b^o%o&o%o&o$v#v&v#v%v#q#q*q^q^q*e^e!e&e#e%f&f^f%f$f%k$k*k*k#k&b%b!b^b$b$@b*b*b&b#b#e*e#e%e^e&q*q$q$q&q$@b^b%b%b#b^k$k$k!k^k!f!f#f$f*f%s*s#s*s#s&b#b*b*b*b^o#o!o%o*o$p#p%p!p^p&r#r$r!r!r$@l%l#l^l#l#q$q&q^q#q%@b^b%b#b$b^f%f*f&f&f%c$c*c&c*c$i*i&i^i#i!@b%b#b%b^b*e%e#e$e%e*q!q!q*q&q&@a*a$a^a!a!k#k$k^k^k$x$x%x%x*x^\n"
     ]
    }
   ],
   "source": [
    "message = \"the answer to life the universe and everything\"\n",
    "print(message)\n",
    "\n",
    "message = swap_first_and_last_letter(message)\n",
    "print(message)\n",
    "\n",
    "message = swap_every_two_words(message)\n",
    "print(message)\n",
    "\n",
    "message = swap_first_and_last_words(message)\n",
    "print(message)\n",
    "\n",
    "message = alpha_shift(message,shift=3)\n",
    "print(message)\n",
    "\n",
    "message = reverse_letters(message)\n",
    "print(message)\n",
    "\n",
    "message = multiply_letters(message, multiplier = 5)\n",
    "print(message)\n",
    "\n",
    "message = add_special_characters(message)\n",
    "print(message)"
   ]
  },
  {
   "cell_type": "markdown",
   "metadata": {},
   "source": [
    "## Example Decryption:"
   ]
  },
  {
   "cell_type": "code",
   "execution_count": 18,
   "metadata": {},
   "outputs": [
    {
     "name": "stdout",
     "output_type": "stream",
     "text": [
      "o*o^o!o*o*k%k&k$k%k%p$p!p*p!p$t!t%t!t#t#b#b#b&b^b#x$x!x%x*x&@d#d*d$d#d$s$s^s#s$s%b#b*b$b*b^o%o&o%o&o$v#v&v#v%v#q#q*q^q^q*e^e!e&e#e%f&f^f%f$f%k$k*k*k#k&b%b!b^b$b$@b*b*b&b#b#e*e#e%e^e&q*q$q$q&q$@b^b%b%b#b^k$k$k!k^k!f!f#f$f*f%s*s#s*s#s&b#b*b*b*b^o#o!o%o*o$p#p%p!p^p&r#r$r!r!r$@l%l#l^l#l#q$q&q^q#q%@b^b%b#b$b^f%f*f&f&f%c$c*c&c*c$i*i&i^i#i!@b%b#b%b^b*e%e#e$e%e*q!q!q*q&q&@a*a$a^a!a!k#k$k^k^k$x$x%x%x*x^\n",
      "oooookkkkkppppptttttbbbbbxxxxx dddddsssssbbbbbooooovvvvvqqqqqeeeeefffffkkkkkbbbbb bbbbbeeeeeqqqqq bbbbbkkkkkfffffsssssbbbbboooooppppprrrrr lllllqqqqq bbbbbfffffccccciiiii bbbbbeeeeeqqqqq aaaaakkkkkxxxxx\n",
      "okptbx dsbovqefkb beq bkfsbopr lq bfci beq akx\n",
      "akx beq bfci lq bkfsbopr beq dsbovqefkb okptbx\n",
      "dna eht eifl ot eniversu eht gverythine rnswea\n",
      "rnswea eht eifl ot eniversu eht gverythine dna\n",
      "eht rnswea ot eifl eht eniversu dna gverythine\n",
      "the answer to life the universe and everything\n"
     ]
    }
   ],
   "source": [
    "print(message)\n",
    "\n",
    "message = add_special_characters_decryption(message)\n",
    "print(message)\n",
    "\n",
    "message = multiply_letters_decryption(message, multiplier = 5)\n",
    "print(message)\n",
    "\n",
    "message = reverse_letters_decryption(message)\n",
    "print(message)\n",
    "\n",
    "message = alpha_shift_decryption(message,shift=3)\n",
    "print(message)\n",
    "\n",
    "message = swap_first_and_last_words_decryption(message)\n",
    "print(message)\n",
    "\n",
    "message = swap_every_two_words_decryption(message)\n",
    "print(message)\n",
    "\n",
    "message = swap_first_and_last_letter_decryption(message)\n",
    "print(message)"
   ]
  },
  {
   "cell_type": "markdown",
   "metadata": {},
   "source": [
    "## Sample Prompts:\n",
    "\n",
    "1) Write a function that takes in a string and returns a string with the following special characters removed ‘!@#\\$\\%\\^\\&\\*’. Each '@' should also be replaced by a space.\n",
    "\n",
    "2) Write a function that takes in a string with repeating letters, and returns a string containing on one letter for each set of repeating letters. repeating letters each repeat 5 times.\n",
    "\n",
    "3) Write a function that takes in a string and returns a string with the characters in the string in reverse order.\n",
    "\n",
    "4) Write a function that takes in a string and returns a string with each letter in the string changed into the letter 3 letters to the left if it in the alphabet. For ‘a’ is one letter to the left of ‘b’ and three letters to the left of ‘d.’  \n",
    "\n",
    "5) Write a function that takes in a string and returns a string with the first and last words of the string transposed.\n",
    "\n",
    "6) Write a function the takes in a string and returns a string with each pair of words transposed. if the string has an odd number of words the last word in the string should remain the last word in the string.\n",
    "\n",
    "7) Write a function that takes in a string and returns a string with the first and last letters of each word transposed. One letter words should remain unchanged.\n"
   ]
  },
  {
   "cell_type": "markdown",
   "metadata": {},
   "source": [
    "## Sample End Product"
   ]
  },
  {
   "cell_type": "code",
   "execution_count": 19,
   "metadata": {},
   "outputs": [],
   "source": [
    "import group1 as g1\n",
    "import group2 as g2\n",
    "import group3 as g3\n",
    "import group4 as g4\n",
    "import group5 as g5\n",
    "import group6 as g6\n",
    "import group7 as g7"
   ]
  },
  {
   "cell_type": "code",
   "execution_count": 20,
   "metadata": {},
   "outputs": [
    {
     "name": "stdout",
     "output_type": "stream",
     "text": [
      "u&u#u&u^u$q*q^q$q%q#v$v$v*v*v!z^z&z#z#z^h!h^h$h*h&d%d#d&d$d^@j^j&j^j^j$y^y^y%y&y!h&h!h%h$h#u&u!u$u$u&b!b$b*b&b&w!w!w^w^w^k$k*k!k*k&l^l#l*l$l*q%q!q*q&q*h^h#h#h$h!@h^h^h*h#h#k#k$k^k%k&w$w^w#w^w^@h*h!h#h^h%q!q%q#q*q!l^l!l^l&l%y%y$y#y&y#h#h$h!h!h*u!u&u*u%u&v^v!v$v&v!x$x%x$x!x&@r%r%r#r&r^w%w&w&w#w$@h^h#h$h!h$l*l#l#l&l^i#i#i%i^i^o&o#o%o&o!@h$h%h*h!h#k$k!k*k&k!w&w&w%w&w$@g%g&g!g%g*q$q&q$q&q*d*d%d*d^d$\n",
      "uuuuuqqqqqvvvvvzzzzzhhhhhddddd jjjjjyyyyyhhhhhuuuuubbbbbwwwwwkkkkklllllqqqqqhhhhh hhhhhkkkkkwwwww hhhhhqqqqqlllllyyyyyhhhhhuuuuuvvvvvxxxxx rrrrrwwwww hhhhhllllliiiiiooooo hhhhhkkkkkwwwww gggggqqqqqddddd\n",
      "uqvzhd jyhubwklqh hkw hqlyhuvx rw hlio hkw gqd\n",
      "gqd hkw hlio rw hqlyhuvx hkw jyhubwklqh uqvzhd\n",
      "dna eht eifl ot eniversu eht gverythine rnswea\n",
      "rnswea eht eifl ot eniversu eht gverythine dna\n",
      "eht rnswea ot eifl eht eniversu dna gverythine\n",
      "the answer to life the universe and everything\n"
     ]
    }
   ],
   "source": [
    "message = 'u&u#u&u^u$q*q^q$q%q#v$v$v*v*v!z^z&z#z#z^h!h^h$h*h&d%d#d&d$d^@j^j&j^j^j$y^y^y%y&y!h&h!h%h$h#u&u!u$u$u&b!b$b*b&b&w!w!w^w^w^k$k*k!k*k&l^l#l*l$l*q%q!q*q&q*h^h#h#h$h!@h^h^h*h#h#k#k$k^k%k&w$w^w#w^w^@h*h!h#h^h%q!q%q#q*q!l^l!l^l&l%y%y$y#y&y#h#h$h!h!h*u!u&u*u%u&v^v!v$v&v!x$x%x$x!x&@r%r%r#r&r^w%w&w&w#w$@h^h#h$h!h$l*l#l#l&l^i#i#i%i^i^o&o#o%o&o!@h$h%h*h!h#k$k!k*k&k!w&w&w%w&w$@g%g&g!g%g*q$q&q$q&q*d*d%d*d^d$'\n",
    "\n",
    "print(message)\n",
    "\n",
    "message = g1.add_special_characters_decryption(message)\n",
    "print(message)\n",
    "\n",
    "message = g2.multiply_letters_decryption(message, multiplier = 5)\n",
    "print(message)\n",
    "\n",
    "message = g3.reverse_letters_decryption(message)\n",
    "print(message)\n",
    "\n",
    "message = g4.alpha_shift_decryption(message,shift=3)\n",
    "print(message)\n",
    "\n",
    "message = g5.swap_first_and_last_words_decryption(message)\n",
    "print(message)\n",
    "\n",
    "message = g6.swap_every_two_words_decryption(message)\n",
    "print(message)\n",
    "\n",
    "message = g7.swap_first_and_last_letter_decryption(message)\n",
    "print(message)"
   ]
  }
 ],
 "metadata": {
  "kernelspec": {
   "display_name": "Python 3",
   "language": "python",
   "name": "python3"
  },
  "language_info": {
   "codemirror_mode": {
    "name": "ipython",
    "version": 3
   },
   "file_extension": ".py",
   "mimetype": "text/x-python",
   "name": "python",
   "nbconvert_exporter": "python",
   "pygments_lexer": "ipython3",
   "version": "3.7.4"
  }
 },
 "nbformat": 4,
 "nbformat_minor": 4
}
