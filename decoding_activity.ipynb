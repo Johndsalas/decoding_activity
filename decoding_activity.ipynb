{
 "cells": [
  {
   "cell_type": "code",
   "execution_count": 1,
   "metadata": {},
   "outputs": [],
   "source": [
    "import string"
   ]
  },
  {
   "cell_type": "code",
   "execution_count": 2,
   "metadata": {},
   "outputs": [],
   "source": [
    "message = \"this is the message okay\""
   ]
  },
  {
   "cell_type": "markdown",
   "metadata": {},
   "source": [
    "## Encryption 1: Swap the first and last letter in each word\n"
   ]
  },
  {
   "cell_type": "code",
   "execution_count": 3,
   "metadata": {},
   "outputs": [
    {
     "data": {
      "text/plain": [
       "'shit si eht eessagm ykao'"
      ]
     },
     "execution_count": 3,
     "metadata": {},
     "output_type": "execute_result"
    }
   ],
   "source": [
    "def swap_first_and_last_word(message):  \n",
    "    \n",
    "    encrypted_message = ''\n",
    "    \n",
    "    message_list = message.split(' ')\n",
    "    \n",
    "    for word in message_list:\n",
    "    \n",
    "        start_letter = word[0]\n",
    "        \n",
    "        end_letter = word[-1]\n",
    "        \n",
    "        if len(word) > 2:\n",
    "        \n",
    "            other_letters = word[1:-1]\n",
    "            \n",
    "            new_word = end_letter + other_letters + start_letter + ' '\n",
    "            \n",
    "        elif len(word) == 2:\n",
    "            \n",
    "            new_word = end_letter + start_letter + ' '\n",
    "            \n",
    "        else:\n",
    "            \n",
    "            new_word = word + ' '\n",
    "            \n",
    "        encrypted_message += new_word\n",
    "\n",
    "    return encrypted_message.strip()\n",
    "    \n",
    "swap_first_and_last_word(message)"
   ]
  },
  {
   "cell_type": "markdown",
   "metadata": {},
   "source": [
    "## Running the function a second time will decrypt the message"
   ]
  },
  {
   "cell_type": "code",
   "execution_count": 4,
   "metadata": {},
   "outputs": [
    {
     "data": {
      "text/plain": [
       "'this is the message okay'"
      ]
     },
     "execution_count": 4,
     "metadata": {},
     "output_type": "execute_result"
    }
   ],
   "source": [
    "swap_first_and_last_word(swap_first_and_last_word(message))"
   ]
  },
  {
   "cell_type": "markdown",
   "metadata": {},
   "source": [
    "## Encryption 2: Swap every two words"
   ]
  },
  {
   "cell_type": "code",
   "execution_count": 5,
   "metadata": {},
   "outputs": [
    {
     "data": {
      "text/plain": [
       "'si shit eessagm eht ykao'"
      ]
     },
     "execution_count": 5,
     "metadata": {},
     "output_type": "execute_result"
    }
   ],
   "source": [
    "message = \"this is the message okay\"\n",
    "message = swap_first_and_last_word(message)\n",
    "\n",
    "def swap_every_two_words(message):\n",
    "\n",
    "    encrypted_message =''\n",
    "\n",
    "    message_list = message.split(' ')\n",
    "\n",
    "    duo = []\n",
    "\n",
    "    for word in message_list:\n",
    "\n",
    "        duo.append(word)   \n",
    "\n",
    "        if len(duo) == 2:\n",
    "\n",
    "            duo.reverse()\n",
    "\n",
    "            for word in duo:\n",
    "\n",
    "                encrypted_message += word + ' '\n",
    "\n",
    "            duo = []\n",
    "\n",
    "    if len(message_list) % 2 != 0:\n",
    "\n",
    "        encrypted_message += duo[0]\n",
    "\n",
    "    return encrypted_message.strip()\n",
    "\n",
    "swap_every_two_words(message)"
   ]
  },
  {
   "cell_type": "markdown",
   "metadata": {},
   "source": [
    "## Encryption 3: Multiply letters"
   ]
  },
  {
   "cell_type": "code",
   "execution_count": 6,
   "metadata": {},
   "outputs": [],
   "source": [
    "message = \"this is the message okay\"\n",
    "message = swap_first_and_last_word(message)\n",
    "message = swap_every_two_words(message)\n",
    "\n",
    "def multiply_letters(message):\n",
    "\n",
    "    for letter in message:\n",
    "    \n",
    "        if letter.isalpha():\n",
    "        \n",
    "            new_char = letter * 3\n"
   ]
  },
  {
   "cell_type": "markdown",
   "metadata": {},
   "source": [
    "## Encryption 4: Reverse letters in message"
   ]
  },
  {
   "cell_type": "code",
   "execution_count": 7,
   "metadata": {},
   "outputs": [
    {
     "data": {
      "text/plain": [
       "'ykao eht eessagm shit si'"
      ]
     },
     "execution_count": 7,
     "metadata": {},
     "output_type": "execute_result"
    }
   ],
   "source": [
    "message = \"this is the message okay\"\n",
    "message = swap_first_and_last_word(message)\n",
    "message = swap_every_two_words(message)\n",
    "\n",
    "def reverse_letters(message):\n",
    "\n",
    "    message = message.split(' ')\n",
    "\n",
    "    message.reverse()\n",
    "\n",
    "    return ' '.join(message)\n",
    "\n",
    "    \n",
    "\n",
    "reverse_letters(message)"
   ]
  },
  {
   "cell_type": "markdown",
   "metadata": {},
   "source": [
    "## Encryption 5: Swap the first and last words of the message"
   ]
  },
  {
   "cell_type": "code",
   "execution_count": 8,
   "metadata": {},
   "outputs": [
    {
     "data": {
      "text/plain": [
       "'okay is the message this'"
      ]
     },
     "execution_count": 8,
     "metadata": {},
     "output_type": "execute_result"
    }
   ],
   "source": [
    "message = \"this is the message okay\"\n",
    "\n",
    "def swap_first_and_last_words(message):\n",
    "\n",
    "    li = message.split(' ')\n",
    "\n",
    "    first_word_index = len(li[0])\n",
    "\n",
    "    last_word_index = len(li[-1])\n",
    "\n",
    "    first_word = message[:first_word_index]\n",
    "\n",
    "    last_word = message[(last_word_index*-1):]\n",
    "\n",
    "    other_words = message[(first_word_index):(last_word_index*-1)]\n",
    "\n",
    "    return last_word + other_words + first_word\n",
    "\n",
    "swap_first_and_last_words(message)"
   ]
  },
  {
   "cell_type": "markdown",
   "metadata": {},
   "source": [
    "## Encryption 6: shift alphabet 3 letters "
   ]
  },
  {
   "cell_type": "code",
   "execution_count": 12,
   "metadata": {},
   "outputs": [
    {
     "data": {
      "text/plain": [
       "'abcdefghijklmnopqrstuvwxyzabcdefghijklmnopqrstuvwxyz'"
      ]
     },
     "execution_count": 12,
     "metadata": {},
     "output_type": "execute_result"
    }
   ],
   "source": [
    "alph_low = string.ascii_lowercase\n",
    "alpha = alpha_string * 2\n",
    "\n",
    "alpha_up\n",
    "\n",
    "for char in message:\n",
    "    \n",
    "    if char.lower in alphabet\n",
    "    \n",
    "    "
   ]
  },
  {
   "cell_type": "code",
   "execution_count": 10,
   "metadata": {},
   "outputs": [
    {
     "ename": "SyntaxError",
     "evalue": "invalid syntax (<ipython-input-10-edb910dd9ebc>, line 1)",
     "output_type": "error",
     "traceback": [
      "\u001b[0;36m  File \u001b[0;32m\"<ipython-input-10-edb910dd9ebc>\"\u001b[0;36m, line \u001b[0;32m1\u001b[0m\n\u001b[0;31m    else:\u001b[0m\n\u001b[0m       ^\u001b[0m\n\u001b[0;31mSyntaxError\u001b[0m\u001b[0;31m:\u001b[0m invalid syntax\n"
     ]
    }
   ],
   "source": [
    "    \n",
    "    else:\n",
    "        \n",
    "        new_char = '@'\n",
    "    \n",
    "    encrypted_message += new_char \n",
    "    \n",
    "encrypted_message"
   ]
  }
 ],
 "metadata": {
  "kernelspec": {
   "display_name": "Python 3",
   "language": "python",
   "name": "python3"
  },
  "language_info": {
   "codemirror_mode": {
    "name": "ipython",
    "version": 3
   },
   "file_extension": ".py",
   "mimetype": "text/x-python",
   "name": "python",
   "nbconvert_exporter": "python",
   "pygments_lexer": "ipython3",
   "version": "3.7.4"
  }
 },
 "nbformat": 4,
 "nbformat_minor": 4
}
