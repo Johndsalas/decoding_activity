{
 "cells": [
  {
   "cell_type": "code",
   "execution_count": 1,
   "metadata": {},
   "outputs": [],
   "source": [
    "import string\n",
    "import random"
   ]
  },
  {
   "cell_type": "markdown",
   "metadata": {},
   "source": [
    "## Message should consist on only lowercase letters"
   ]
  },
  {
   "cell_type": "code",
   "execution_count": 32,
   "metadata": {},
   "outputs": [],
   "source": [
    "message = \"the answer to life the universe and everything\""
   ]
  },
  {
   "cell_type": "markdown",
   "metadata": {},
   "source": [
    "## Encryption 1: Swap the first and last letter in each word"
   ]
  },
  {
   "cell_type": "code",
   "execution_count": 3,
   "metadata": {},
   "outputs": [],
   "source": [
    "def swap_first_and_last_word(message):  \n",
    "    \n",
    "    encrypted_message = ''\n",
    "    \n",
    "    message_list = message.split(' ')\n",
    "    \n",
    "    for word in message_list:\n",
    "    \n",
    "        start_letter = word[0]\n",
    "        \n",
    "        end_letter = word[-1]\n",
    "        \n",
    "        if len(word) > 2:\n",
    "        \n",
    "            other_letters = word[1:-1]\n",
    "            \n",
    "            new_word = end_letter + other_letters + start_letter + ' '\n",
    "            \n",
    "        elif len(word) == 2:\n",
    "            \n",
    "            new_word = end_letter + start_letter + ' '\n",
    "            \n",
    "        else:\n",
    "            \n",
    "            new_word = word + ' '\n",
    "            \n",
    "        encrypted_message += new_word\n",
    "\n",
    "    return encrypted_message.strip()"
   ]
  },
  {
   "cell_type": "markdown",
   "metadata": {},
   "source": [
    "## Decryption 1: Swap the first and last letter in each word"
   ]
  },
  {
   "cell_type": "code",
   "execution_count": 4,
   "metadata": {},
   "outputs": [],
   "source": [
    "def swap_first_and_last_word_decryption(message):  \n",
    "    \n",
    "    encrypted_message = ''\n",
    "    \n",
    "    message_list = message.split(' ')\n",
    "    \n",
    "    for word in message_list:\n",
    "    \n",
    "        start_letter = word[0]\n",
    "        \n",
    "        end_letter = word[-1]\n",
    "        \n",
    "        if len(word) > 2:\n",
    "        \n",
    "            other_letters = word[1:-1]\n",
    "            \n",
    "            new_word = end_letter + other_letters + start_letter + ' '\n",
    "            \n",
    "        elif len(word) == 2:\n",
    "            \n",
    "            new_word = end_letter + start_letter + ' '\n",
    "            \n",
    "        else:\n",
    "            \n",
    "            new_word = word + ' '\n",
    "            \n",
    "        encrypted_message += new_word\n",
    "\n",
    "    return encrypted_message.strip()"
   ]
  },
  {
   "cell_type": "markdown",
   "metadata": {},
   "source": [
    "## Encryption 2: Swap every two words"
   ]
  },
  {
   "cell_type": "code",
   "execution_count": 5,
   "metadata": {},
   "outputs": [],
   "source": [
    "def swap_every_two_words(message):\n",
    "\n",
    "    encrypted_message =''\n",
    "\n",
    "    message_list = message.split(' ')\n",
    "\n",
    "    duo = []\n",
    "\n",
    "    for word in message_list:\n",
    "\n",
    "        duo.append(word)   \n",
    "\n",
    "        if len(duo) == 2:\n",
    "\n",
    "            duo.reverse()\n",
    "\n",
    "            for word in duo:\n",
    "\n",
    "                encrypted_message += word + ' '\n",
    "\n",
    "            duo = []\n",
    "\n",
    "    if len(message_list) % 2 != 0:\n",
    "\n",
    "        encrypted_message += duo[0]\n",
    "\n",
    "    return encrypted_message.strip()"
   ]
  },
  {
   "cell_type": "markdown",
   "metadata": {},
   "source": [
    "## Decryption 2: Swap every two words"
   ]
  },
  {
   "cell_type": "code",
   "execution_count": 18,
   "metadata": {},
   "outputs": [],
   "source": [
    "def swap_every_two_words_decryption(message):\n",
    "\n",
    "    encrypted_message =''\n",
    "\n",
    "    message_list = message.split(' ')\n",
    "\n",
    "    duo = []\n",
    "\n",
    "    for word in message_list:\n",
    "\n",
    "        duo.append(word)   \n",
    "\n",
    "        if len(duo) == 2:\n",
    "\n",
    "            duo.reverse()\n",
    "\n",
    "            for word in duo:\n",
    "\n",
    "                encrypted_message += word + ' '\n",
    "\n",
    "            duo = []\n",
    "\n",
    "    if len(message_list) % 2 != 0:\n",
    "\n",
    "        encrypted_message += duo[0]\n",
    "\n",
    "    return encrypted_message.strip()"
   ]
  },
  {
   "cell_type": "markdown",
   "metadata": {},
   "source": [
    "## Encryption 3: Swap the first and last words"
   ]
  },
  {
   "cell_type": "code",
   "execution_count": 19,
   "metadata": {},
   "outputs": [],
   "source": [
    "def swap_first_and_last_words(message):\n",
    "\n",
    "    li = message.split(' ')\n",
    "\n",
    "    first_word_index = len(li[0])\n",
    "\n",
    "    last_word_index = len(li[-1])\n",
    "\n",
    "    first_word = message[:first_word_index]\n",
    "\n",
    "    last_word = message[(last_word_index*-1):]\n",
    "\n",
    "    other_words = message[(first_word_index):(last_word_index*-1)]\n",
    "\n",
    "    return last_word + other_words + first_word"
   ]
  },
  {
   "cell_type": "markdown",
   "metadata": {},
   "source": [
    "## Decryption 3: Swap the first and last words"
   ]
  },
  {
   "cell_type": "code",
   "execution_count": 20,
   "metadata": {},
   "outputs": [],
   "source": [
    "def swap_first_and_last_words_decryption(message):\n",
    "\n",
    "    li = message.split(' ')\n",
    "\n",
    "    first_word_index = len(li[0])\n",
    "\n",
    "    last_word_index = len(li[-1])\n",
    "\n",
    "    first_word = message[:first_word_index]\n",
    "\n",
    "    last_word = message[(last_word_index*-1):]\n",
    "\n",
    "    other_words = message[(first_word_index):(last_word_index*-1)]\n",
    "\n",
    "    return last_word + other_words + first_word"
   ]
  },
  {
   "cell_type": "markdown",
   "metadata": {},
   "source": [
    "## Encryption 4: shift alphabet 3 letters "
   ]
  },
  {
   "cell_type": "code",
   "execution_count": 9,
   "metadata": {},
   "outputs": [],
   "source": [
    "message = \"the answer to life the universe and everything\"\n",
    "\n",
    "def alpha_shift(message,shift=3):    \n",
    "\n",
    "    alpha = string.ascii_lowercase\n",
    "    alpha = alpha * 2\n",
    "\n",
    "    new_message = ''\n",
    "\n",
    "    for char in message:\n",
    "\n",
    "        if char in alpha:\n",
    "\n",
    "            char_index = alpha.index(char)\n",
    "\n",
    "            shift_num = char_index + shift\n",
    "\n",
    "            new_message += alpha[shift_num]\n",
    "\n",
    "        else:\n",
    "\n",
    "            new_message += ' '\n",
    "\n",
    "    return new_message"
   ]
  },
  {
   "cell_type": "markdown",
   "metadata": {},
   "source": [
    "## Decryption 4: shift alphabet 3 letters"
   ]
  },
  {
   "cell_type": "code",
   "execution_count": 10,
   "metadata": {},
   "outputs": [],
   "source": [
    "def alpha_shift_decryption(message,shift):    \n",
    "\n",
    "    alpha = string.ascii_lowercase\n",
    "    alpha = alpha * 2\n",
    "\n",
    "    new_message = ''\n",
    "\n",
    "    for char in message:\n",
    "\n",
    "        if char in alpha:\n",
    "\n",
    "            char_index = alpha.index(char)\n",
    "\n",
    "            shift_num = char_index + (shift * -1)\n",
    "\n",
    "            new_message += alpha[shift_num]\n",
    "\n",
    "        else:\n",
    "\n",
    "            new_message += ' '\n",
    "\n",
    "    return new_message"
   ]
  },
  {
   "cell_type": "markdown",
   "metadata": {},
   "source": [
    "## Encryption 5: reverse letters in message"
   ]
  },
  {
   "cell_type": "code",
   "execution_count": 23,
   "metadata": {},
   "outputs": [],
   "source": [
    "def reverse_letters(message):\n",
    "\n",
    "    message = message.split(' ')\n",
    "\n",
    "    message.reverse()\n",
    "\n",
    "    return ' '.join(message)"
   ]
  },
  {
   "cell_type": "markdown",
   "metadata": {},
   "source": [
    "## Decryption 5: reverse letters in message"
   ]
  },
  {
   "cell_type": "code",
   "execution_count": 24,
   "metadata": {},
   "outputs": [],
   "source": [
    "def reverse_letters_decryption(message):\n",
    "\n",
    "    message = message.split(' ')\n",
    "\n",
    "    message.reverse()\n",
    "\n",
    "    return ' '.join(message)"
   ]
  },
  {
   "cell_type": "markdown",
   "metadata": {},
   "source": [
    "## Encryption 6: Multiply letters"
   ]
  },
  {
   "cell_type": "code",
   "execution_count": 33,
   "metadata": {},
   "outputs": [],
   "source": [
    "def multiply_letters(message, multiplier = 5):\n",
    "\n",
    "    new_message =''\n",
    "    \n",
    "    for letter in message:\n",
    "    \n",
    "        if letter.isalpha():\n",
    "        \n",
    "            new_message += (letter * multiplier)\n",
    "            \n",
    "        else:\n",
    "            \n",
    "            new_message += ' '\n",
    "\n",
    "    return new_message"
   ]
  },
  {
   "cell_type": "markdown",
   "metadata": {},
   "source": [
    "## Decryption 6: Multiply letters"
   ]
  },
  {
   "cell_type": "code",
   "execution_count": 34,
   "metadata": {},
   "outputs": [],
   "source": [
    "def multiply_letters_decryption(message, multiplier = 5):\n",
    "\n",
    "    count = 0\n",
    "\n",
    "    new_message =''\n",
    "\n",
    "    for letter in message:\n",
    "\n",
    "        if letter.isalpha():\n",
    "\n",
    "            count += 1\n",
    "\n",
    "            if count % multiplier == 0:\n",
    "\n",
    "                new_message += letter\n",
    "\n",
    "        else:\n",
    "\n",
    "            new_message += ' '\n",
    "\n",
    "    return new_message"
   ]
  },
  {
   "cell_type": "markdown",
   "metadata": {},
   "source": [
    "## Encryption 7: Sew in special characters"
   ]
  },
  {
   "cell_type": "code",
   "execution_count": 60,
   "metadata": {},
   "outputs": [],
   "source": [
    "def add_special_characters(message):\n",
    "\n",
    "    new_message =''\n",
    "\n",
    "    for character in message:\n",
    "\n",
    "        if character.isalpha():\n",
    "\n",
    "            new_character = character + random.choice(['!','#','$','%','^','&','*'])\n",
    "\n",
    "        else:\n",
    "\n",
    "            new_character = '@'\n",
    "\n",
    "        new_message += new_character\n",
    "\n",
    "    return new_message"
   ]
  },
  {
   "cell_type": "markdown",
   "metadata": {},
   "source": [
    "## Decryption 7: Sew in special characters"
   ]
  },
  {
   "cell_type": "code",
   "execution_count": 61,
   "metadata": {},
   "outputs": [],
   "source": [
    "def add_special_characters_decryption(message):\n",
    "\n",
    "    new_message =''\n",
    "\n",
    "    for character in message:\n",
    "        \n",
    "        if character.isalpha():\n",
    "            \n",
    "            new_character = character\n",
    "\n",
    "        elif character in '!#$%^&*':\n",
    "\n",
    "            new_character = ''\n",
    "\n",
    "        elif character == '@':\n",
    "\n",
    "            new_character = ' '\n",
    "\n",
    "        new_message += new_character\n",
    "\n",
    "    return new_message"
   ]
  },
  {
   "attachments": {},
   "cell_type": "markdown",
   "metadata": {},
   "source": [
    "## Example Encryption:"
   ]
  },
  {
   "cell_type": "code",
   "execution_count": null,
   "metadata": {},
   "outputs": [],
   "source": []
  }
 ],
 "metadata": {
  "kernelspec": {
   "display_name": "Python 3",
   "language": "python",
   "name": "python3"
  },
  "language_info": {
   "codemirror_mode": {
    "name": "ipython",
    "version": 3
   },
   "file_extension": ".py",
   "mimetype": "text/x-python",
   "name": "python",
   "nbconvert_exporter": "python",
   "pygments_lexer": "ipython3",
   "version": "3.7.4"
  }
 },
 "nbformat": 4,
 "nbformat_minor": 4
}
